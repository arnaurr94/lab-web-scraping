{
  "cells": [
    {
      "cell_type": "markdown",
      "id": "7e7a1ab8-2599-417d-9a65-25ef07f3a786",
      "metadata": {
        "id": "7e7a1ab8-2599-417d-9a65-25ef07f3a786"
      },
      "source": [
        "# Lab | Web Scraping"
      ]
    },
    {
      "cell_type": "markdown",
      "id": "ce8882fc-4815-4567-92fa-b4816358ba7d",
      "metadata": {
        "id": "ce8882fc-4815-4567-92fa-b4816358ba7d"
      },
      "source": [
        "Welcome to the \"Books to Scrape\" Web Scraping Adventure Lab!\n",
        "\n",
        "**Objective**\n",
        "\n",
        "In this lab, we will embark on a mission to unearth valuable insights from the data available on Books to Scrape, an online platform showcasing a wide variety of books. As data analyst, you have been tasked with scraping a specific subset of book data from Books to Scrape to assist publishing companies in understanding the landscape of highly-rated books across different genres. Your insights will help shape future book marketing strategies and publishing decisions.\n",
        "\n",
        "**Background**\n",
        "\n",
        "In a world where data has become the new currency, businesses are leveraging big data to make informed decisions that drive success and profitability. The publishing industry, much like others, utilizes data analytics to understand market trends, reader preferences, and the performance of books based on factors such as genre, author, and ratings. Books to Scrape serves as a rich source of such data, offering detailed information about a diverse range of books, making it an ideal platform for extracting insights to aid in informed decision-making within the literary world.\n",
        "\n",
        "**Task**\n",
        "\n",
        "Your task is to create a Python script using BeautifulSoup and pandas to scrape Books to Scrape book data, focusing on book ratings and genres. The script should be able to filter books with ratings above a certain threshold and in specific genres. Additionally, the script should structure the scraped data in a tabular format using pandas for further analysis.\n",
        "\n",
        "**Expected Outcome**\n",
        "\n",
        "A function named `scrape_books` that takes two parameters: `min_rating` and `max_price`. The function should scrape book data from the \"Books to Scrape\" website and return a `pandas` DataFrame with the following columns:\n",
        "\n",
        "**Expected Outcome**\n",
        "\n",
        "- A function named `scrape_books` that takes two parameters: `min_rating` and `max_price`.\n",
        "- The function should return a DataFrame with the following columns:\n",
        "  - **UPC**: The Universal Product Code (UPC) of the book.\n",
        "  - **Title**: The title of the book.\n",
        "  - **Price (£)**: The price of the book in pounds.\n",
        "  - **Rating**: The rating of the book (1-5 stars).\n",
        "  - **Genre**: The genre of the book.\n",
        "  - **Availability**: Whether the book is in stock or not.\n",
        "  - **Description**: A brief description or product description of the book (if available).\n",
        "  \n",
        "You will execute this script to scrape data for books with a minimum rating of `4.0 and above` and a maximum price of `£20`. \n",
        "\n",
        "Remember to experiment with different ratings and prices to ensure your code is versatile and can handle various searches effectively!\n",
        "\n",
        "**Resources**\n",
        "\n",
        "- [Beautiful Soup Documentation](https://www.crummy.com/software/BeautifulSoup/bs4/doc/)\n",
        "- [Pandas Documentation](https://pandas.pydata.org/pandas-docs/stable/index.html)\n",
        "- [Books to Scrape](https://books.toscrape.com/)\n"
      ]
    },
    {
      "cell_type": "markdown",
      "id": "3519921d-5890-445b-9a33-934ed8ee378c",
      "metadata": {
        "id": "3519921d-5890-445b-9a33-934ed8ee378c"
      },
      "source": [
        "**Hint**\n",
        "\n",
        "Your first mission is to familiarize yourself with the **Books to Scrape** website. Navigate to [Books to Scrape](http://books.toscrape.com/) and explore the available books to understand their layout and structure. \n",
        "\n",
        "Next, think about how you can set parameters for your data extraction:\n",
        "\n",
        "- **Minimum Rating**: Focus on books with a rating of 4.0 and above.\n",
        "- **Maximum Price**: Filter for books priced up to £20.\n",
        "\n",
        "After reviewing the site, you can construct a plan for scraping relevant data. Pay attention to the details displayed for each book, including the title, price, rating, and availability. This will help you identify the correct HTML elements to target with your scraping script.\n",
        "\n",
        "Make sure to build your scraping URL and logic based on the patterns you observe in the HTML structure of the book listings!"
      ]
    },
    {
      "cell_type": "markdown",
      "id": "25a83a0d-a742-49f6-985e-e27887cbf922",
      "metadata": {
        "id": "25a83a0d-a742-49f6-985e-e27887cbf922"
      },
      "source": [
        "\n",
        "---\n",
        "\n",
        "**Best of luck! Immerse yourself in the world of books, and may the data be with you!**"
      ]
    },
    {
      "cell_type": "markdown",
      "id": "7b75cf0d-9afa-4eec-a9e2-befeac68b2a0",
      "metadata": {
        "id": "7b75cf0d-9afa-4eec-a9e2-befeac68b2a0"
      },
      "source": [
        "**Important Note**:\n",
        "\n",
        "In the fast-changing online world, websites often update and change their structures. When you try this lab, the **Books to Scrape** website might differ from what you expect.\n",
        "\n",
        "If you encounter issues due to these changes, like new rules or obstacles preventing data extraction, don’t worry! Get creative.\n",
        "\n",
        "You can choose another website that interests you and is suitable for scraping data. Options like Wikipedia, The New York Times, or even library databases are great alternatives. The main goal remains the same: extract useful data and enhance your web scraping skills while exploring a source of information you enjoy. This is your opportunity to practice and adapt to different web environments!"
      ]
    },
    {
      "cell_type": "code",
      "execution_count": 302,
      "id": "40359eee-9cd7-4884-bfa4-83344c222305",
      "metadata": {
        "id": "40359eee-9cd7-4884-bfa4-83344c222305"
      },
      "outputs": [],
      "source": [
        "# Import necesary libraries\n",
        "import requests\n",
        "from bs4 import BeautifulSoup\n",
        "import pandas as pd"
      ]
    },
    {
      "cell_type": "code",
      "execution_count": 310,
      "id": "606d2f30",
      "metadata": {},
      "outputs": [],
      "source": [
        "# Define the function scrape books with the arguments min_rating and max_price\n",
        "def scrape_books(min_rating, max_price):\n",
        "        \n",
        "    # Define functions to get title, url and price\n",
        "    def get_title(book):\n",
        "        title = book.find_all(\"a\")[1][\"title\"]\n",
        "        return title\n",
        "    def get_url(book):\n",
        "        book_url = book.find_all(\"a\")[1][\"href\"]\n",
        "        domain = \"https://books.toscrape.com/catalogue/\"\n",
        "        return domain+book_url\n",
        "    def get_price(book):\n",
        "        price = book.find(\"p\", attrs = {\"class\":\"price_color\"}).get_text().replace('£','')\n",
        "        return price\n",
        "    def get_availability(book):\n",
        "        availability = book.find(\"p\", attrs = {\"class\":\"instock availability\"}).get_text().replace('\\n', '')\n",
        "        return availability\n",
        "    \n",
        "    # Define functions to get upc, genre, rating and description\n",
        "    # Atention! These are to be performed in the book's soup, not the general one!\n",
        "    def get_upc(book):\n",
        "        upc = book.find(\"td\").get_text()\n",
        "        return upc\n",
        "    def get_genre(book):\n",
        "        genre = book.find(\"ul\", attrs={'class':'breadcrumb'}).find_all('li')[2].get_text().strip()\n",
        "        return genre\n",
        "    def get_rating(book):\n",
        "        rating = book.find_all('p')[2].get('class')[1].lower()\n",
        "        my_nums = {'one': 1,\n",
        "                   'two': 2,\n",
        "                   'three': 3,\n",
        "                   'four': 4,\n",
        "                   'five': 5,\n",
        "        }\n",
        "        return my_nums[rating]\n",
        "    def get_description(book):\n",
        "        description = book.find_all('p')[3].get_text()\n",
        "        return description\n",
        "    \n",
        "    # Create an empty dictionary for books and initialise key\n",
        "    books_dict = {}\n",
        "    key = 0\n",
        "    \n",
        "    # Get grids for all 50 pages\n",
        "    for number in range(1,51):\n",
        "        # Create a request to access the HTML code of each page\n",
        "        url = f\"https://books.toscrape.com/catalogue/page-{str(number)}.html\"\n",
        "        response = requests.get(url)\n",
        "        # Create a soup object from the HTML code \n",
        "        soup = BeautifulSoup(response.content, 'html.parser')\n",
        "    \n",
        "        # Find all the books in a given page\n",
        "        book_grid = soup.find(\"ol\", attrs = {\"class\":\"row\"})\n",
        "        # Inside of the grid identify all books\n",
        "        books = book_grid.find_all(\"li\", attrs = {\"class\":\"col-xs-6 col-sm-4 col-md-3 col-lg-3\"})\n",
        "    \n",
        "        # Iterate functions to all books \n",
        "        for book in books:\n",
        "            title = get_title(book)\n",
        "            price = get_price(book)\n",
        "            availability = get_availability(book)\n",
        "            book_url = get_url(book)\n",
        "    \n",
        "            ## Access the book url to retrieve more data.\n",
        "            book_response = requests.get(book_url)\n",
        "            ## 1st generate a soup for the book\n",
        "            book_soup = BeautifulSoup(book_response.content, 'html.parser')\n",
        "    \n",
        "            ## Start gathering info from the book's page\n",
        "            upc = get_upc(book_soup)\n",
        "            genre = get_genre(book_soup)\n",
        "            description = get_description(book_soup)\n",
        "            rating = get_rating(book_soup)\n",
        "    \n",
        "            #Finally, save the retrieved data in a dictionary\n",
        "            books_dict[key] = {\"title\": title,\n",
        "                               \"genre\": genre,\n",
        "                               \"price_£\": price,\n",
        "                               \"availability\": availability,\n",
        "                               \"rating\": rating,\n",
        "                               \"upc\": upc,\n",
        "                               \"description\": description,\n",
        "          }\n",
        "            key += 1\n",
        "    # Turn the dictionary into a dataframe    \n",
        "    books_df = pd.DataFrame.from_dict(books_dict, orient = \"index\")\n",
        "    books_df['price_£'] = books_df['price_£'].astype('float32')\n",
        "    condition = (books_df['rating'] >= min_rating) & (books_df['price_£'] <= max_price)\n",
        "    return books_df[condition]"
      ]
    },
    {
      "cell_type": "code",
      "execution_count": 309,
      "id": "663372a7",
      "metadata": {},
      "outputs": [
        {
          "data": {
            "text/html": [
              "<div>\n",
              "<style scoped>\n",
              "    .dataframe tbody tr th:only-of-type {\n",
              "        vertical-align: middle;\n",
              "    }\n",
              "\n",
              "    .dataframe tbody tr th {\n",
              "        vertical-align: top;\n",
              "    }\n",
              "\n",
              "    .dataframe thead th {\n",
              "        text-align: right;\n",
              "    }\n",
              "</style>\n",
              "<table border=\"1\" class=\"dataframe\">\n",
              "  <thead>\n",
              "    <tr style=\"text-align: right;\">\n",
              "      <th></th>\n",
              "      <th>title</th>\n",
              "      <th>genre</th>\n",
              "      <th>price_£</th>\n",
              "      <th>availability</th>\n",
              "      <th>rating</th>\n",
              "      <th>upc</th>\n",
              "      <th>description</th>\n",
              "    </tr>\n",
              "  </thead>\n",
              "  <tbody>\n",
              "    <tr>\n",
              "      <th>12</th>\n",
              "      <td>Set Me Free</td>\n",
              "      <td>Young Adult</td>\n",
              "      <td>17.459999</td>\n",
              "      <td>In stock</td>\n",
              "      <td>5</td>\n",
              "      <td>ce6396b0f23f6ecc</td>\n",
              "      <td>Aaron Ledbetter’s future had been planned out ...</td>\n",
              "    </tr>\n",
              "  </tbody>\n",
              "</table>\n",
              "</div>"
            ],
            "text/plain": [
              "          title        genre    price_£              availability  rating  \\\n",
              "12  Set Me Free  Young Adult  17.459999              In stock           5   \n",
              "\n",
              "                 upc                                        description  \n",
              "12  ce6396b0f23f6ecc  Aaron Ledbetter’s future had been planned out ...  "
            ]
          },
          "execution_count": 309,
          "metadata": {},
          "output_type": "execute_result"
        }
      ],
      "source": [
        "scrape_books(4,20)"
      ]
    }
  ],
  "metadata": {
    "colab": {
      "provenance": []
    },
    "kernelspec": {
      "display_name": "base",
      "language": "python",
      "name": "python3"
    },
    "language_info": {
      "codemirror_mode": {
        "name": "ipython",
        "version": 3
      },
      "file_extension": ".py",
      "mimetype": "text/x-python",
      "name": "python",
      "nbconvert_exporter": "python",
      "pygments_lexer": "ipython3",
      "version": "3.13.5"
    }
  },
  "nbformat": 4,
  "nbformat_minor": 5
}
